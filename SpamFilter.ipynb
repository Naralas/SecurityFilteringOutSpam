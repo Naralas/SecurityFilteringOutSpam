{
 "cells": [
  {
   "cell_type": "markdown",
   "metadata": {},
   "source": [
    "## Dataset loading and separation test data and train"
   ]
  },
  {
   "cell_type": "code",
   "execution_count": 1,
   "metadata": {},
   "outputs": [],
   "source": [
    "import sklearn\n",
    "\n",
    "from sklearn import datasets\n",
    "from sklearn import datasets\n",
    "from sklearn.model_selection import train_test_split\n",
    "\n",
    "email_set = datasets.load_files(\"data/\")\n",
    "\n",
    "RATIO_TRAINING = 0.7\n",
    "\n",
    "X_train, X_test, Y_train, Y_test = train_test_split(email_set.data, email_set.target, \n",
    "                                                            test_size=(1-RATIO_TRAINING), shuffle=True)"
   ]
  },
  {
   "cell_type": "markdown",
   "metadata": {},
   "source": [
    "## Classifier training"
   ]
  },
  {
   "cell_type": "code",
   "execution_count": 2,
   "metadata": {},
   "outputs": [],
   "source": [
    "from sklearn.naive_bayes import MultinomialNB\n",
    "from sklearn.pipeline import Pipeline\n",
    "from sklearn.feature_extraction.text import TfidfTransformer\n",
    "from sklearn.feature_extraction.text import CountVectorizer\n",
    "\n",
    "\n",
    "bayes_clf = Pipeline([('vect', CountVectorizer()), ('clf', MultinomialNB())])\n",
    "\n",
    "bayes_clf.fit(X_train, Y_train)\n",
    "bayes_predicted = bayes_clf.predict(X_test)"
   ]
  },
  {
   "cell_type": "markdown",
   "metadata": {},
   "source": [
    "## Test scores"
   ]
  },
  {
   "cell_type": "code",
   "execution_count": 3,
   "metadata": {},
   "outputs": [
    {
     "name": "stdout",
     "output_type": "stream",
     "text": [
      "Naive Bayes\n",
      "------------------------------------------------------------\n",
      "              precision    recall  f1-score   support\n",
      "\n",
      "           0       0.99      0.97      0.98       146\n",
      "           1       0.97      0.99      0.98       143\n",
      "\n",
      "   micro avg       0.98      0.98      0.98       289\n",
      "   macro avg       0.98      0.98      0.98       289\n",
      "weighted avg       0.98      0.98      0.98       289\n",
      "\n"
     ]
    }
   ],
   "source": [
    "from sklearn.metrics import classification_report\n",
    "\n",
    "\n",
    "print(\"Naive Bayes\")\n",
    "print(\"------------------------------------------------------------\")\n",
    "print(classification_report(Y_test, bayes_predicted))"
   ]
  },
  {
   "cell_type": "markdown",
   "metadata": {},
   "source": [
    "### Test inputs"
   ]
  },
  {
   "cell_type": "code",
   "execution_count": 4,
   "metadata": {},
   "outputs": [
    {
     "name": "stdout",
     "output_type": "stream",
     "text": [
      "'language speaker' => non-spam\n",
      "'have sex with ladies' => spam\n",
      "'student historian' => non-spam\n",
      "'explode' => spam\n",
      "'Hi, the conference will be held in Bern tomorrow at 12 PM.' => spam\n",
      "\"Please find attached the project's specification. Call me if you need anything.\" => spam\n",
      "'You need to reset your account at \"http://www.bank.russia.po.biz/useraccount\"' => spam\n",
      "'Earn 3841 dollars a month with this simple trick !' => spam\n",
      "'Hot girls waiting for your meat scepter in your area' => spam\n",
      "'Enlarge your webgl in 22 weeks with our new feature' => spam\n"
     ]
    }
   ],
   "source": [
    "test_data = ['language speaker', 'have sex with ladies', 'student historian', 'explode',\n",
    "            'Hi, the conference will be held in Bern tomorrow at 12 PM.',\n",
    "           'Please find attached the project\\'s specification. Call me if you need anything.',\n",
    "           'You need to reset your account at \"http://www.bank.russia.po.biz/useraccount\"',\n",
    "           'Earn 3841 dollars a month with this simple trick !',\n",
    "           'Hot girls waiting for your meat scepter in your area',\n",
    "           'Enlarge your webgl in 22 weeks with our new feature']\n",
    "\n",
    "\n",
    "predicted = bayes_clf.predict(test_data)\n",
    "\n",
    "for doc, category in zip(test_data, predicted):\n",
    "    print('%r => %s' % (doc, email_set.target_names[category]))"
   ]
  },
  {
   "cell_type": "code",
   "execution_count": null,
   "metadata": {},
   "outputs": [],
   "source": []
  }
 ],
 "metadata": {
  "kernelspec": {
   "display_name": "Python 3",
   "language": "python",
   "name": "python3"
  },
  "language_info": {
   "codemirror_mode": {
    "name": "ipython",
    "version": 3
   },
   "file_extension": ".py",
   "mimetype": "text/x-python",
   "name": "python",
   "nbconvert_exporter": "python",
   "pygments_lexer": "ipython3",
   "version": "3.7.2"
  }
 },
 "nbformat": 4,
 "nbformat_minor": 2
}
